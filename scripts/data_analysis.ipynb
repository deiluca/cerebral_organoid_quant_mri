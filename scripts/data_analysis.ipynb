{
 "cells": [
  {
   "cell_type": "code",
   "execution_count": null,
   "id": "9ec3e297",
   "metadata": {},
   "outputs": [],
   "source": [
    "import os\n",
    "import numpy as np\n",
    "import matplotlib.pyplot as plt\n",
    "from skimage.filters import threshold_otsu\n",
    "import pandas as pd\n",
    "import sys\n",
    "sys.path.append(\"/home/ws/oc9627/cerebral_organoid_quant_mri\")\n",
    "\n",
    "from scripts.utils.constants import MRI_ORG_LOC_GT_DIR, MRI_CYST_LOC_GT_DIR\n",
    "from scripts.utils.segmentation_performance_extractor import SegmentationPerformanceExtractor\n",
    "from scripts.utils.segmentation_overlay_visualizer import SegmentationOverlayVisualizer\n",
    "from scripts.utils.io_utils import get_orig_imgs, get_masks\n",
    "from scripts.utils.global_cyst_classification import get_compactness\n",
    "from scripts.utils.metrics import calculate_roc_auc\n",
    "from scripts.utils.dw_mri import get_metrics_global_cyst_seg_dw_mri\n",
    "\n",
    "from scripts.utils.visualization import plot_compactness, plot_examples_lq_hq_organoids, plot_trace_lq_hq_mean_org_int, plot_correlation_compactness_cysticity, plot_organoid_growth_over_time\n",
    "from scripts.utils.global_cyst_classification import get_all_otsu_masks, get_org_mean_and_compactness\n",
    "from scripts.utils.constants import CSV_GLOBAL_CYST_ANNOT\n",
    "\n",
    "wdir = '/home/ws/oc9627/cerebral_organoid_quant_mri'\n",
    "os.chdir(wdir)"
   ]
  },
  {
   "cell_type": "markdown",
   "id": "c423afcd",
   "metadata": {},
   "source": [
    "# Organoid segmentation"
   ]
  },
  {
   "cell_type": "markdown",
   "id": "005032ce",
   "metadata": {},
   "source": [
    "#### extract results on test set"
   ]
  },
  {
   "cell_type": "code",
   "execution_count": null,
   "id": "46d7d4c4",
   "metadata": {},
   "outputs": [],
   "source": [
    "pred_dir = 'results/organoid_segmentation/checkpoint_dirs_trained_previously/all_predictions_on_test_sets'\n",
    "gt_dir = MRI_ORG_LOC_GT_DIR"
   ]
  },
  {
   "cell_type": "code",
   "execution_count": null,
   "id": "0ccfd760",
   "metadata": {},
   "outputs": [],
   "source": [
    "spe = SegmentationPerformanceExtractor(pred_dir = pred_dir,\n",
    "                                       gt_dir = gt_dir)\n",
    "spe.extract_test_performance()\n",
    "spe.plot_test_performance(save_to='results/organoid_segmentation/plots/organoid_seg_performance.png')\n",
    "spe.print_test_dice_mean_sd()"
   ]
  },
  {
   "cell_type": "code",
   "execution_count": null,
   "id": "0042e2f3",
   "metadata": {},
   "outputs": [],
   "source": [
    "spe = SegmentationPerformanceExtractor(pred_dir = pred_dir,\n",
    "                                       gt_dir = gt_dir)\n",
    "spe.extract_test_performance()\n",
    "spe.plot_test_performance(save_to='results/organoid_segmentation/plots/organoid_seg_performance.svg')\n",
    "spe.print_test_dice_mean_sd()"
   ]
  },
  {
   "cell_type": "markdown",
   "id": "f785bb92",
   "metadata": {},
   "source": [
    "#### plot weakest, intermediate and best prediction"
   ]
  },
  {
   "cell_type": "code",
   "execution_count": null,
   "id": "a35dd36f",
   "metadata": {},
   "outputs": [],
   "source": [
    "imgs = get_orig_imgs(kind='mri')"
   ]
  },
  {
   "cell_type": "code",
   "execution_count": null,
   "id": "6a4e5a73",
   "metadata": {},
   "outputs": [],
   "source": [
    "# weakest prediction\n",
    "for pred_color in ['green', 'orange']:\n",
    "    sov = SegmentationOverlayVisualizer(imgs,\n",
    "                                    org_id = 'org3_0609', \n",
    "                                    org_loc = [15, 65, 65, 108], \n",
    "                                    gt_dir = MRI_ORG_LOC_GT_DIR,\n",
    "                                    pred_dir = pred_dir,\n",
    "                                    px_threshold=0,\n",
    "                                    planes='sagittal',\n",
    "                                    keep_planes=[44, 47, 50],\n",
    "                                    rot_img=270,\n",
    "                                    pred_color=pred_color,\n",
    "                                    save_to=f'results/organoid_segmentation/plots/organoid_seg_overlay_org3_0609_pred-{pred_color}.png')\n",
    "    sov.plot_segmentation_overlays()\n",
    "display(sov.plot_segmentation_overlays())"
   ]
  },
  {
   "cell_type": "code",
   "execution_count": null,
   "id": "187aa4cb",
   "metadata": {},
   "outputs": [],
   "source": [
    "# intermediate prediction\n",
    "for pred_color in ['green', 'orange']:\n",
    "    sov = SegmentationOverlayVisualizer(imgs,\n",
    "                                 org_id = 'org2_0615', \n",
    "                                 org_loc = [20, 75, 30, 75], \n",
    "                                 gt_dir = MRI_ORG_LOC_GT_DIR,\n",
    "                                 pred_dir = pred_dir,\n",
    "                                 px_threshold=0,\n",
    "                                 planes='sagittal',\n",
    "                                 keep_planes=[40, 50, 58],\n",
    "                                 rot_img=270,\n",
    "                                 pred_color=pred_color,\n",
    "                                 save_to=f'results/organoid_segmentation/plots/organoid_seg_overlay_org2_0615_pred-{pred_color}.png')\n",
    "    sov.plot_segmentation_overlays()\n",
    "display(sov.plot_segmentation_overlays())"
   ]
  },
  {
   "cell_type": "code",
   "execution_count": null,
   "id": "6067a60c",
   "metadata": {},
   "outputs": [],
   "source": [
    "# strongest prediction\n",
    "for pred_color in ['green', 'orange']:\n",
    "    sov = SegmentationOverlayVisualizer(imgs,\n",
    "                                     org_id = 'org5_0530', \n",
    "                                     org_loc = [20, 65, 38, 75], \n",
    "                                     gt_dir = MRI_ORG_LOC_GT_DIR,\n",
    "                                     pred_dir = pred_dir,\n",
    "                                     px_threshold=0,\n",
    "                                     planes='sagittal',\n",
    "                                     keep_planes=[34, 40, 52],\n",
    "                                     rot_img=270,\n",
    "                                     pred_color=pred_color,\n",
    "                                     save_to=f'results/organoid_segmentation/plots/organoid_seg_overlay_org5_0530_pred-{pred_color}.png')\n",
    "img = sov.plot_segmentation_overlays()\n",
    "display(img)"
   ]
  },
  {
   "cell_type": "markdown",
   "id": "11fe16e4",
   "metadata": {},
   "source": [
    "# Global cyst classification"
   ]
  },
  {
   "cell_type": "markdown",
   "id": "eb5b1f8d",
   "metadata": {},
   "source": [
    "#### Calculate mean organoid intensities and compactness"
   ]
  },
  {
   "cell_type": "code",
   "execution_count": null,
   "id": "e5fae68d",
   "metadata": {},
   "outputs": [],
   "source": [
    "df = get_compactness()"
   ]
  },
  {
   "cell_type": "markdown",
   "id": "eb39b825",
   "metadata": {},
   "source": [
    "#### Calculate ROC AUC and visualize class separation"
   ]
  },
  {
   "cell_type": "code",
   "execution_count": null,
   "id": "cafe5b6e",
   "metadata": {},
   "outputs": [],
   "source": [
    "roc_auc_moi = calculate_roc_auc(df, col='mean_organoid_intensity')\n",
    "roc_auc_compactness = calculate_roc_auc(df, col='compactness')\n",
    "\n",
    "print(f'ROC AUC for mean organoid intensity:\\t{roc_auc_moi}')\n",
    "print(f'ROC AUC for Compactness:\\t\\t{roc_auc_compactness}')\n",
    "\n",
    "plot_compactness(df, \n",
    "                 roc_auc_compactness, \n",
    "                 save_to='results/global_cyst_classification/compactness_separates_lq_hq_organoids.svg')"
   ]
  },
  {
   "cell_type": "markdown",
   "id": "2c40e8e6",
   "metadata": {},
   "source": [
    "#### Visualize examples of LQ and HQ organoids"
   ]
  },
  {
   "cell_type": "code",
   "execution_count": null,
   "id": "ea320e34",
   "metadata": {},
   "outputs": [],
   "source": [
    "org_ids = ['org6_0518', 'org2_0518', 'org1_0615', 'org4_0609']\n",
    "compactnesses = [31.3, 34.3, 14.7, 11.2]\n",
    "# two selected sagittal planes for each organoid\n",
    "# other ranges to crop images to EV boundaries for better visibility (manually extracted) \n",
    "org_locs_planes = [(['88-117', '59', '32-67'], ['88-117', '60', '32-67']),\n",
    "                   (['40-69', '41', '40-75'], ['40-69', '45', '40-75']),\n",
    "                   (['5-55', '58', '15-90'], ['5-55', '61', '15-90']),\n",
    "                   (['17-67', '36', '15-85'], ['17-67', '53', '15-85'])]\n",
    "plot_examples_lq_hq_organoids(org_ids, \n",
    "                              compactnesses,\n",
    "                              org_locs_planes,\n",
    "                              save_to='results/global_cyst_classification/examples_lq_hq_organoids.png')"
   ]
  },
  {
   "cell_type": "markdown",
   "id": "a19b990d",
   "metadata": {},
   "source": [
    "#### DW-MRI to probe tissue characteristics"
   ]
  },
  {
   "cell_type": "code",
   "execution_count": null,
   "id": "51be7d0e",
   "metadata": {},
   "outputs": [],
   "source": [
    "plot_trace_lq_hq_mean_org_int(save_to='results/global_cyst_classification/trace_mean_org_intensities.svg')"
   ]
  },
  {
   "cell_type": "markdown",
   "id": "6fb3a5f9",
   "metadata": {},
   "source": [
    "# Local cyst classification"
   ]
  },
  {
   "cell_type": "markdown",
   "id": "584b3d22",
   "metadata": {},
   "source": [
    "#### extract results"
   ]
  },
  {
   "cell_type": "code",
   "execution_count": null,
   "id": "70a4562c",
   "metadata": {},
   "outputs": [],
   "source": [
    "pred_dir_local_cysts = 'results/local_cyst_segmentation/checkpoint_dirs_trained_previously/all_predictions_on_test_sets'\n",
    "gt_dir = MRI_CYST_LOC_GT_DIR"
   ]
  },
  {
   "cell_type": "code",
   "execution_count": null,
   "id": "d8bb9749",
   "metadata": {},
   "outputs": [],
   "source": [
    "spe = SegmentationPerformanceExtractor(pred_dir = pred_dir_local_cysts,\n",
    "                                       gt_dir = gt_dir)\n",
    "spe.extract_test_performance()\n",
    "spe.plot_test_performance(save_to='results/local_cyst_segmentation/plots/local_cyst_seg_performance.svg')\n",
    "spe.print_test_dice_mean_sd()"
   ]
  },
  {
   "cell_type": "markdown",
   "id": "6f26d160",
   "metadata": {},
   "source": [
    "#### visualize weakest, intermediate and strongest prediction"
   ]
  },
  {
   "cell_type": "code",
   "execution_count": null,
   "id": "b6a0cf79",
   "metadata": {},
   "outputs": [],
   "source": [
    "imgs = get_orig_imgs(kind='mri')"
   ]
  },
  {
   "cell_type": "code",
   "execution_count": null,
   "id": "144a9e05",
   "metadata": {
    "scrolled": false
   },
   "outputs": [],
   "source": [
    "# weakest prediction\n",
    "sov = SegmentationOverlayVisualizer(imgs,\n",
    "                 org_id = 'org1_0615', \n",
    "                 org_loc = [10, 75, 10, 60],\n",
    "                 gt_dir = gt_dir,\n",
    "                 pred_dir = pred_dir_local_cysts,\n",
    "                 planes='sagittal',\n",
    "                 keep_planes=[51, 55, 60],\n",
    "                 rot_img=270,\n",
    "                 pred_color='orange',\n",
    "                 save_to='results/local_cyst_segmentation/plots/cyst_seg_overlay_org1_0615_pred-orange.png')\n",
    "display(sov.plot_segmentation_overlays())"
   ]
  },
  {
   "cell_type": "code",
   "execution_count": null,
   "id": "cb54bbb1",
   "metadata": {},
   "outputs": [],
   "source": [
    "# intermediate prediction\n",
    "sov = SegmentationOverlayVisualizer(imgs,\n",
    "                 org_id = 'org4_0609', \n",
    "                 org_loc=[20, 70, 25, 65], \n",
    "                 gt_dir = gt_dir,\n",
    "                 pred_dir = pred_dir_local_cysts,\n",
    "                 planes='sagittal',\n",
    "                 px_threshold=0,\n",
    "                 keep_planes=[42, 49, 52],\n",
    "                 pred_color='orange',\n",
    "                 rot_img=270,\n",
    "                 save_to='results/local_cyst_segmentation/plots/cyst_seg_overlay_org4_0609_pred-orange.png')\n",
    "display(sov.plot_segmentation_overlays())"
   ]
  },
  {
   "cell_type": "code",
   "execution_count": null,
   "id": "9286f9fe",
   "metadata": {},
   "outputs": [],
   "source": [
    "# strongest prediction\n",
    "sov = SegmentationOverlayVisualizer(imgs,\n",
    "                 org_id = 'org7_0530', \n",
    "                 org_loc=[22, 65, 20, 55], \n",
    "                 gt_dir = MRI_CYST_LOC_GT_DIR,\n",
    "                 pred_dir = pred_dir_local_cysts,\n",
    "                 planes='sagittal',\n",
    "                 px_threshold=0,\n",
    "                 keep_planes=[49, 56, 63],\n",
    "                 rot_img=270,\n",
    "                 pred_color='orange',\n",
    "                 save_to='results/local_cyst_segmentation/plots/cyst_seg_overlay_org7_0530_pred-orange.png')\n",
    "display(sov.plot_segmentation_overlays())"
   ]
  },
  {
   "cell_type": "markdown",
   "id": "c22a59df",
   "metadata": {},
   "source": [
    "# Supplementary"
   ]
  },
  {
   "cell_type": "markdown",
   "id": "c4fc81e2",
   "metadata": {},
   "source": [
    "### organoid segmentation"
   ]
  },
  {
   "cell_type": "markdown",
   "id": "bc5232cd",
   "metadata": {},
   "source": [
    "#### plot organoid growth over time"
   ]
  },
  {
   "cell_type": "code",
   "execution_count": null,
   "id": "e38f2a68",
   "metadata": {},
   "outputs": [],
   "source": [
    "plot_organoid_growth_over_time()\n",
    "plt.savefig('results/supplement/organoid_growth_over_time.svg')"
   ]
  },
  {
   "cell_type": "markdown",
   "id": "dfeb60de",
   "metadata": {},
   "source": [
    "### global cyst classification"
   ]
  },
  {
   "cell_type": "markdown",
   "id": "a12ba2b3",
   "metadata": {},
   "source": [
    "#### correlation of compactness with cysticity from local cyst segmentations"
   ]
  },
  {
   "cell_type": "code",
   "execution_count": null,
   "id": "d1510a21",
   "metadata": {},
   "outputs": [],
   "source": [
    "plot_correlation_compactness_cysticity(save_to='results/local_cyst_segmentation/plots/correlation_compactness_cysticity.png')"
   ]
  },
  {
   "cell_type": "markdown",
   "id": "2f0b6eca",
   "metadata": {},
   "source": [
    "#### values for predicted organoid locations (3D U-Net)"
   ]
  },
  {
   "cell_type": "code",
   "execution_count": null,
   "id": "b5a8bdba",
   "metadata": {},
   "outputs": [],
   "source": [
    "imgs = get_orig_imgs(kind='mri')\n",
    "gt = get_masks(kind='predicted_org_loc')\n",
    "otsu, _ = get_all_otsu_masks(imgs, gt)\n",
    "\n",
    "df = get_org_mean_and_compactness(imgs, \n",
    "                                  org_loc=gt, \n",
    "                                  otsu=otsu)\n",
    "quality_annot = pd.read_csv(CSV_GLOBAL_CYST_ANNOT)\n",
    "df = df.merge(quality_annot)\n",
    "\n",
    "roc_auc_moi = calculate_roc_auc(df, col='mean_organoid_intensity')\n",
    "roc_auc_compactness = calculate_roc_auc(df, col='compactness')\n",
    "\n",
    "print(f'ROC AUC for mean organoid intensity:\\t{roc_auc_moi}')\n",
    "print(f'ROC AUC for Compactness:\\t\\t{roc_auc_compactness}')\n",
    "\n",
    "plot_compactness(df, roc_auc_compactness)"
   ]
  },
  {
   "cell_type": "markdown",
   "id": "d573c437",
   "metadata": {},
   "source": [
    "### ROC AUCs for DW-MRI"
   ]
  },
  {
   "cell_type": "code",
   "execution_count": null,
   "id": "31e8dadc",
   "metadata": {},
   "outputs": [],
   "source": [
    "df_dwmri_metrics, _ = get_metrics_global_cyst_seg_dw_mri()\n",
    "df_dwmri_metrics['ROC AUC'] = df_dwmri_metrics['ROC AUC'].map('{:,.2f}'.format)\n",
    "df_dwmri_metrics['P-value'] = df_dwmri_metrics['P-value'].map('{:,.1E}'.format)\n",
    "df_dwmri_metrics['P-value corr'] = df_dwmri_metrics['P-value corr'].map('{:,.1E}'.format)\n",
    "df_dwmri_metrics\n",
    "# df_dwmri_metrics.to_csv('metrics_global_cyst_seg_dwmri.csv', index=False, sep=';')"
   ]
  },
  {
   "cell_type": "code",
   "execution_count": null,
   "id": "6b3748c3",
   "metadata": {},
   "outputs": [],
   "source": []
  },
  {
   "cell_type": "markdown",
   "id": "81323d65",
   "metadata": {},
   "source": [
    "### show for one plane how automatic ET voxel determination works"
   ]
  },
  {
   "cell_type": "code",
   "execution_count": null,
   "id": "a7475ccc",
   "metadata": {},
   "outputs": [],
   "source": [
    "imgs = get_orig_imgs(kind='mri')\n",
    "gts = get_masks(kind='gt_org_loc')\n",
    "\n",
    "cor_plane = 60\n",
    "img = imgs['org1_0518'][0:50, 10:58, cor_plane]\n",
    "gt = gts['org1_0518'][0:50, 10:58, cor_plane]\n",
    "\n",
    "cmap = plt.cm.get_cmap('Greys').reversed()\n",
    "fig, axs = plt.subplots(1, 5, figsize=(15, 3))\n",
    "# otsu, _ = get_all_otsu_masks(imgs, gt)\n",
    "axs[0].imshow(img, cmap=cmap)\n",
    "otsu_seg = (img > threshold_otsu(img)).astype('bool')\n",
    "axs[1].imshow(otsu_seg, cmap=cmap)\n",
    "axs[2].imshow(gt, cmap=cmap)\n",
    "# axs[1].imshow(img > threshold_otsu(img), cmap=cmap)\n",
    "axs[3].imshow(np.where(otsu_seg & ~gt.astype('bool'), 1, 0), cmap=cmap)\n",
    "axs[4].imshow(np.where(otsu_seg & ~gt.astype('bool'), img, 0), cmap=cmap)\n",
    "\n",
    "axs[0].set_title\n",
    "for i in range(5):\n",
    "    axs[i].axis('off')"
   ]
  }
 ],
 "metadata": {
  "kernelspec": {
   "display_name": "Python [conda env:co_quant_mri]",
   "language": "python",
   "name": "conda-env-co_quant_mri-py"
  },
  "language_info": {
   "codemirror_mode": {
    "name": "ipython",
    "version": 3
   },
   "file_extension": ".py",
   "mimetype": "text/x-python",
   "name": "python",
   "nbconvert_exporter": "python",
   "pygments_lexer": "ipython3",
   "version": "3.8.0"
  }
 },
 "nbformat": 4,
 "nbformat_minor": 5
}
